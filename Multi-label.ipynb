{
 "cells": [
  {
   "cell_type": "code",
   "execution_count": 14,
   "id": "eade8975",
   "metadata": {},
   "outputs": [],
   "source": [
    "import pandas as pd\n",
    "import numpy as np\n",
    "import re\n",
    "from textblob import TextBlob\n",
    "from snorkel.labeling import labeling_function\n",
    "from snorkel.labeling.model import LabelModel\n",
    "from snorkel.labeling import PandasLFApplier\n",
    "import random\n",
    "import nltk\n",
    "from nltk.corpus import wordnet as wn\n",
    "from snorkel.augmentation import transformation_function\n",
    "from snorkel.augmentation import ApplyOnePolicy, PandasTFApplier\n",
    "from snorkel.slicing import slicing_function\n",
    "from sklearn.feature_extraction.text import CountVectorizer\n",
    "from sklearn.linear_model import LogisticRegression"
   ]
  },
  {
   "cell_type": "code",
   "execution_count": 15,
   "id": "eed8d097",
   "metadata": {
    "scrolled": true
   },
   "outputs": [],
   "source": [
    "df_test = pd.read_csv('test.csv',index_col=0)\n",
    "df_train = pd.read_csv('train.csv', index_col=0)"
   ]
  },
  {
   "cell_type": "code",
   "execution_count": null,
   "id": "8438e0fc",
   "metadata": {},
   "outputs": [],
   "source": [
    "ABSTAIN = -2\n",
    "POSITIVE= 1\n",
    "NEGATIVE = 0\n",
    "ANNO = -1"
   ]
  },
  {
   "cell_type": "code",
   "execution_count": 17,
   "id": "2ed05425",
   "metadata": {},
   "outputs": [],
   "source": [
    "def lf_keyword_good(context):\n",
    "    Positive_word = r\"(good|great|well|(be vaccinated)|better)\"\n",
    "    return POSITIVE if re.search(Positive_word, context) else ABSTAIN\n",
    "def lf_keyword_bad(context):\n",
    "    Negative_word = r\"(cancer|bad|(won't take)|traced|(won't work)|refuse|convinced)\"\n",
    "    return NEGATIVE if re.search(Negative_word, context) else ABSTAIN\n",
    "def lf_keyword_annoncement(context):\n",
    "    Anno_word = r\"(clinic|volunteer|offically|(find a clinic))\"\n",
    "    return ANNO if re.search(Anno_word, context) else ABSTAIN"
   ]
  },
  {
   "cell_type": "code",
   "execution_count": 18,
   "id": "431f5dd0",
   "metadata": {},
   "outputs": [],
   "source": [
    "def lf_textblob_polarity(x):\n",
    "    return POSITIVE if TextBlob(x.text).sentiment.polarity > 0.3 else ABSTAIN"
   ]
  },
  {
   "cell_type": "code",
   "execution_count": null,
   "id": "1021ebb7",
   "metadata": {},
   "outputs": [],
   "source": [
    "from snorkel.labeling.model import LabelModel\n",
    "from snorkel.labeling import PandasLFApplier\n",
    "\n",
    "lfs = [lf_keyword_good, lf_keyword_bad, lf_keyword_annoncement, lf_textblob_polarity]\n",
    "\n",
    "applier = PandasLFApplier(lfs)\n",
    "L_train = applier.apply(df_train)\n",
    "\n",
    "label_model = LabelModel(cardinality=2, verbose=True)\n",
    "label_model.fit(L_train, n_epochs=200, log_freq=50, seed=123)\n",
    "df_train[\"label\"] = label_model.predict(L=L_train, tie_break_policy=\"abstain\")\n",
    "\n",
    "df_train = df_train[df_train.label != ABSTAIN]"
   ]
  }
 ],
 "metadata": {
  "kernelspec": {
   "display_name": "Python 3",
   "language": "python",
   "name": "python3"
  },
  "language_info": {
   "codemirror_mode": {
    "name": "ipython",
    "version": 3
   },
   "file_extension": ".py",
   "mimetype": "text/x-python",
   "name": "python",
   "nbconvert_exporter": "python",
   "pygments_lexer": "ipython3",
   "version": "3.6.13"
  }
 },
 "nbformat": 4,
 "nbformat_minor": 5
}
